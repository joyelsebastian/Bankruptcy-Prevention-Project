{
 "cells": [
  {
   "cell_type": "code",
   "execution_count": 1,
   "metadata": {
    "id": "ozjP1pA4JV1F"
   },
   "outputs": [],
   "source": [
    "#pip install streamlit"
   ]
  },
  {
   "cell_type": "code",
   "execution_count": 13,
   "metadata": {
    "colab": {
     "base_uri": "https://localhost:8080/",
     "height": 390
    },
    "id": "BuualTC81EDA",
    "outputId": "8d92f3db-1ac6-4d6f-8f61-5bf9d848e919"
   },
   "outputs": [],
   "source": [
    "import pandas as pd\n",
    "import streamlit as st\n",
    "from sklearn.neighbors import KNeighborsClassifier\n",
    "\n",
    "st.title('Model Deployment: Logistic Regression')\n",
    "\n",
    "st.sidebar.header('User Input Parameters')\n",
    "\n",
    "def user_input_features():\n",
    "    industrial_risk = st.sidebar.selectbox('industrial_risk',('1','0','0.5'))\n",
    "    management_risk = st.sidebar.selectbox('management_risk',('1','0','0.5'))\n",
    "    financial_flexibility = st.sidebar.selectbox('financial_flexibility',('1','0','0.5'))\n",
    "    credibility = st.sidebar.selectbox('credibility',('1','0','0.5'))\n",
    "    competitiveness = st.sidebar.selectbox('competitiveness',('1','0','0.5'))\n",
    "    operating_risk= st.sidebar.selectbox('operating_risk',('1','0','0.5'))\n",
    "    data = {'industrial_risk':industrial_risk,\n",
    "            'management_risk':management_risk,\n",
    "            'financial_flexibility':financial_flexibility,\n",
    "            'credibility':credibility,\n",
    "            'competitiveness':competitiveness ,\n",
    "            'operating_risk':operating_risk}\n",
    "    features = pd.DataFrame(data,index = [0])\n",
    "    return features\n",
    "\n",
    "df = user_input_features()\n",
    "st.subheader('User Input parameters')\n",
    "st.write(df)\n",
    "\n",
    "bank = pd.read_csv(\"C:/Users/joyel/Desktop/Bankruptcy_Prevention_Project/DataSet/bankruptcy-prevention.csv\", sep = ';', header = 0)\n",
    "bank = bank.dropna()\n"
   ]
  },
  {
   "cell_type": "code",
   "execution_count": 14,
   "metadata": {
    "id": "ccUNVe3aJS7T"
   },
   "outputs": [],
   "source": [
    "from sklearn.neighbors import KNeighborsClassifier\n",
    "X=bank.drop([' class'],axis=1)\n",
    "X.columns = ['industrial_risk', 'management_risk', 'financial_flexibility',\n",
    "       'credibility', 'competitiveness', 'operating_risk']\n",
    "y=bank[' class']\n",
    "clf = KNeighborsClassifier(metric='manhattan',n_neighbors=4)\n",
    "clf.fit(X,y)\n",
    "\n",
    "prediction = clf.predict(df)\n",
    "prediction_proba = clf.predict_proba(df)\n",
    "\n",
    "st.subheader('Predicted Result')\n",
    "st.write('Yes' if prediction_proba[0][1] > 0.5 else 'No')\n",
    "\n",
    "st.subheader('Prediction Probability')\n",
    "st.write(prediction_proba)"
   ]
  },
  {
   "cell_type": "code",
   "execution_count": null,
   "metadata": {
    "id": "knwsftwsK4Yn"
   },
   "outputs": [],
   "source": []
  },
  {
   "cell_type": "code",
   "execution_count": null,
   "metadata": {
    "id": "MmCWIVSMKURn"
   },
   "outputs": [],
   "source": []
  },
  {
   "cell_type": "code",
   "execution_count": 15,
   "metadata": {
    "id": "g5xBkij3LKVK"
   },
   "outputs": [],
   "source": [
    "# !pip install -q pyngrok\n",
    "\n",
    "# !pip install -q streamlit_ace"
   ]
  },
  {
   "cell_type": "code",
   "execution_count": 16,
   "metadata": {
    "id": "4ReBypoANEyt"
   },
   "outputs": [],
   "source": [
    "# !pip list"
   ]
  },
  {
   "cell_type": "code",
   "execution_count": null,
   "metadata": {
    "id": "CTkhP0h4N3su"
   },
   "outputs": [],
   "source": []
  }
 ],
 "metadata": {
  "colab": {
   "provenance": []
  },
  "kernelspec": {
   "display_name": "Python 3 (ipykernel)",
   "language": "python",
   "name": "python3"
  },
  "language_info": {
   "codemirror_mode": {
    "name": "ipython",
    "version": 3
   },
   "file_extension": ".py",
   "mimetype": "text/x-python",
   "name": "python",
   "nbconvert_exporter": "python",
   "pygments_lexer": "ipython3",
   "version": "3.11.7"
  }
 },
 "nbformat": 4,
 "nbformat_minor": 4
}
